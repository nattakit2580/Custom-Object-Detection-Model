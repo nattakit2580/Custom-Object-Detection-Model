{
 "cells": [
  {
   "cell_type": "code",
   "execution_count": 4,
   "id": "939f764d",
   "metadata": {},
   "outputs": [
    {
     "name": "stdout",
     "output_type": "stream",
     "text": [
      "Requirement already satisfied: roboflow in c:\\users\\asus\\anaconda3\\lib\\site-packages (1.0.9)\n",
      "Requirement already satisfied: certifi==2022.12.7 in c:\\users\\asus\\anaconda3\\lib\\site-packages (from roboflow) (2022.12.7)\n",
      "Requirement already satisfied: chardet==4.0.0 in c:\\users\\asus\\anaconda3\\lib\\site-packages (from roboflow) (4.0.0)\n",
      "Requirement already satisfied: cycler==0.10.0 in c:\\users\\asus\\anaconda3\\lib\\site-packages (from roboflow) (0.10.0)\n",
      "Requirement already satisfied: idna==2.10 in c:\\users\\asus\\anaconda3\\lib\\site-packages (from roboflow) (2.10)\n",
      "Requirement already satisfied: kiwisolver>=1.3.1 in c:\\users\\asus\\anaconda3\\lib\\site-packages (from roboflow) (1.4.2)\n",
      "Requirement already satisfied: matplotlib in c:\\users\\asus\\anaconda3\\lib\\site-packages (from roboflow) (3.5.2)\n",
      "Requirement already satisfied: numpy>=1.18.5 in c:\\users\\asus\\anaconda3\\lib\\site-packages (from roboflow) (1.25.2)\n",
      "Requirement already satisfied: opencv-python>=4.1.2 in c:\\users\\asus\\anaconda3\\lib\\site-packages (from roboflow) (4.9.0.80)\n",
      "Requirement already satisfied: Pillow>=7.1.2 in c:\\users\\asus\\anaconda3\\lib\\site-packages (from roboflow) (10.0.0)\n",
      "Requirement already satisfied: pyparsing==2.4.7 in c:\\users\\asus\\anaconda3\\lib\\site-packages (from roboflow) (2.4.7)\n",
      "Requirement already satisfied: python-dateutil in c:\\users\\asus\\anaconda3\\lib\\site-packages (from roboflow) (2.8.2)\n",
      "Requirement already satisfied: python-dotenv in c:\\users\\asus\\anaconda3\\lib\\site-packages (from roboflow) (1.0.0)\n",
      "Requirement already satisfied: requests in c:\\users\\asus\\anaconda3\\lib\\site-packages (from roboflow) (2.31.0)\n",
      "Requirement already satisfied: six in c:\\users\\asus\\anaconda3\\lib\\site-packages (from roboflow) (1.16.0)\n",
      "Requirement already satisfied: urllib3>=1.26.6 in c:\\users\\asus\\anaconda3\\lib\\site-packages (from roboflow) (1.26.11)\n",
      "Requirement already satisfied: wget in c:\\users\\asus\\anaconda3\\lib\\site-packages (from roboflow) (3.2)\n",
      "Requirement already satisfied: tqdm>=4.41.0 in c:\\users\\asus\\anaconda3\\lib\\site-packages (from roboflow) (4.64.1)\n",
      "Requirement already satisfied: PyYAML>=5.3.1 in c:\\users\\asus\\anaconda3\\lib\\site-packages (from roboflow) (6.0)\n",
      "Requirement already satisfied: requests-toolbelt in c:\\users\\asus\\anaconda3\\lib\\site-packages (from roboflow) (1.0.0)\n",
      "Requirement already satisfied: colorama in c:\\users\\asus\\anaconda3\\lib\\site-packages (from tqdm>=4.41.0->roboflow) (0.4.5)\n",
      "Requirement already satisfied: fonttools>=4.22.0 in c:\\users\\asus\\anaconda3\\lib\\site-packages (from matplotlib->roboflow) (4.25.0)\n",
      "Requirement already satisfied: packaging>=20.0 in c:\\users\\asus\\anaconda3\\lib\\site-packages (from matplotlib->roboflow) (23.2)\n",
      "Requirement already satisfied: charset-normalizer<4,>=2 in c:\\users\\asus\\anaconda3\\lib\\site-packages (from requests->roboflow) (2.0.4)\n"
     ]
    },
    {
     "name": "stderr",
     "output_type": "stream",
     "text": [
      "WARNING: Ignoring invalid distribution -rotobuf (c:\\users\\asus\\anaconda3\\lib\\site-packages)\n",
      "WARNING: Ignoring invalid distribution -rotobuf (c:\\users\\asus\\anaconda3\\lib\\site-packages)\n",
      "WARNING: There was an error checking the latest version of pip.\n"
     ]
    },
    {
     "name": "stdout",
     "output_type": "stream",
     "text": [
      "loading Roboflow workspace...\n",
      "loading Roboflow project...\n",
      "Dependency ultralytics<=8.0.20 is required but found version=8.1.9, to fix: `pip install ultralytics<=8.0.20`\n",
      "Downloading Dataset Version Zip in Detect-ships-1 to yolov8: 100% [16637796 / 16637796] bytes\n"
     ]
    },
    {
     "name": "stderr",
     "output_type": "stream",
     "text": [
      "Extracting Dataset Version Zip to Detect-ships-1 in yolov8:: 100%|██████████████████| 608/608 [00:01<00:00, 439.48it/s]\n"
     ]
    }
   ],
   "source": [
    "!pip install roboflow\n",
    "\n",
    "from roboflow import Roboflow\n",
    "rf = Roboflow(api_key=\"m002ku6qzRq5Pm66djIu\")\n",
    "project = rf.workspace(\"narathip-2xbwp\").project(\"detect-ships\")\n",
    "dataset = project.version(1).download(\"yolov8\")\n"
   ]
  },
  {
   "cell_type": "code",
   "execution_count": null,
   "id": "d9de09e0",
   "metadata": {},
   "outputs": [],
   "source": [
    "pip install ultralytics"
   ]
  },
  {
   "cell_type": "code",
   "execution_count": 2,
   "id": "3dfd912a",
   "metadata": {},
   "outputs": [
    {
     "name": "stdout",
     "output_type": "stream",
     "text": [
      "Requirement already satisfied: opencv-python in c:\\users\\asus\\anaconda3\\lib\\site-packages (4.9.0.80)Note: you may need to restart the kernel to use updated packages.\n"
     ]
    },
    {
     "name": "stderr",
     "output_type": "stream",
     "text": [
      "WARNING: Ignoring invalid distribution -rotobuf (c:\\users\\asus\\anaconda3\\lib\\site-packages)\n",
      "WARNING: Ignoring invalid distribution -rotobuf (c:\\users\\asus\\anaconda3\\lib\\site-packages)\n",
      "WARNING: There was an error checking the latest version of pip.\n"
     ]
    },
    {
     "name": "stdout",
     "output_type": "stream",
     "text": [
      "\n",
      "Requirement already satisfied: numpy>=1.17.0 in c:\\users\\asus\\anaconda3\\lib\\site-packages (from opencv-python) (1.25.2)\n"
     ]
    }
   ],
   "source": [
    "pip install opencv-python"
   ]
  },
  {
   "cell_type": "code",
   "execution_count": null,
   "id": "67a38801",
   "metadata": {},
   "outputs": [],
   "source": [
    "!pip install ultralytics==8.0.196"
   ]
  },
  {
   "cell_type": "code",
   "execution_count": 5,
   "id": "8aead351",
   "metadata": {},
   "outputs": [
    {
     "name": "stdout",
     "output_type": "stream",
     "text": [
      "Note: you may need to restart the kernel to use updated packages.Requirement already satisfied: yolov8 in c:\\users\\asus\\anaconda3\\lib\\site-packages (0.0.2)\n",
      "Requirement already satisfied: yolov5 in c:\\users\\asus\\anaconda3\\lib\\site-packages (from yolov8) (7.0.12)\n",
      "Requirement already satisfied: gitpython>=3.1.30 in c:\\users\\asus\\anaconda3\\lib\\site-packages (from yolov5->yolov8) (3.1.31)\n",
      "Requirement already satisfied: matplotlib>=3.3 in c:\\users\\asus\\anaconda3\\lib\\site-packages (from yolov5->yolov8) (3.5.2)\n",
      "Requirement already satisfied: numpy>=1.18.5 in c:\\users\\asus\\anaconda3\\lib\\site-packages (from yolov5->yolov8) (1.25.2)\n",
      "Requirement already satisfied: opencv-python>=4.1.1 in c:\\users\\asus\\anaconda3\\lib\\site-packages (from yolov5->yolov8) (4.9.0.80)\n",
      "Requirement already satisfied: Pillow>=7.1.2 in c:\\users\\asus\\anaconda3\\lib\\site-packages (from yolov5->yolov8) (10.0.0)\n",
      "Requirement already satisfied: psutil in c:\\users\\asus\\anaconda3\\lib\\site-packages (from yolov5->yolov8) (5.9.0)\n",
      "Requirement already satisfied: PyYAML>=5.3.1 in c:\\users\\asus\\anaconda3\\lib\\site-packages (from yolov5->yolov8) (6.0)\n",
      "Requirement already satisfied: requests>=2.23.0 in c:\\users\\asus\\anaconda3\\lib\\site-packages (from yolov5->yolov8) (2.31.0)\n",
      "Requirement already satisfied: scipy>=1.4.1 in c:\\users\\asus\\anaconda3\\lib\\site-packages (from yolov5->yolov8) (1.11.3)\n",
      "Requirement already satisfied: thop>=0.1.1 in c:\\users\\asus\\anaconda3\\lib\\site-packages (from yolov5->yolov8) (0.1.1.post2209072238)\n",
      "Requirement already satisfied: torch>=1.7.0 in c:\\users\\asus\\anaconda3\\lib\\site-packages (from yolov5->yolov8) (1.9.0+cu111)\n",
      "Requirement already satisfied: torchvision>=0.8.1 in c:\\users\\asus\\anaconda3\\lib\\site-packages (from yolov5->yolov8) (0.10.0+cu111)\n",
      "Requirement already satisfied: tqdm>=4.64.0 in c:\\users\\asus\\anaconda3\\lib\\site-packages (from yolov5->yolov8) (4.64.1)\n",
      "Requirement already satisfied: ultralytics>=8.0.100 in c:\\users\\asus\\anaconda3\\lib\\site-packages (from yolov5->yolov8) (8.1.9)\n",
      "Requirement already satisfied: tensorboard>=2.4.1 in c:\\users\\asus\\anaconda3\\lib\\site-packages (from yolov5->yolov8) (2.15.1)\n",
      "Requirement already satisfied: pandas>=1.1.4 in c:\\users\\asus\\anaconda3\\lib\\site-packages (from yolov5->yolov8) (2.1.2)\n",
      "Requirement already satisfied: seaborn>=0.11.0 in c:\\users\\asus\\anaconda3\\lib\\site-packages (from yolov5->yolov8) (0.11.2)\n",
      "Requirement already satisfied: setuptools>=65.5.1 in c:\\users\\asus\\anaconda3\\lib\\site-packages (from yolov5->yolov8) (69.0.3)\n",
      "Requirement already satisfied: fire in c:\\users\\asus\\anaconda3\\lib\\site-packages (from yolov5->yolov8) (0.5.0)\n",
      "Requirement already satisfied: boto3>=1.19.1 in c:\\users\\asus\\anaconda3\\lib\\site-packages (from yolov5->yolov8) (1.24.28)\n",
      "Requirement already satisfied: sahi>=0.11.10 in c:\\users\\asus\\anaconda3\\lib\\site-packages (from yolov5->yolov8) (0.11.14)\n",
      "Requirement already satisfied: huggingface-hub>=0.12.0 in c:\\users\\asus\\anaconda3\\lib\\site-packages (from yolov5->yolov8) (0.15.1)\n",
      "Requirement already satisfied: roboflow>=0.2.29 in c:\\users\\asus\\anaconda3\\lib\\site-packages (from yolov5->yolov8) (1.0.9)\n",
      "Requirement already satisfied: botocore<1.28.0,>=1.27.28 in c:\\users\\asus\\anaconda3\\lib\\site-packages (from boto3>=1.19.1->yolov5->yolov8) (1.27.28)\n",
      "Requirement already satisfied: jmespath<2.0.0,>=0.7.1 in c:\\users\\asus\\anaconda3\\lib\\site-packages (from boto3>=1.19.1->yolov5->yolov8) (0.10.0)\n",
      "Requirement already satisfied: s3transfer<0.7.0,>=0.6.0 in c:\\users\\asus\\anaconda3\\lib\\site-packages (from boto3>=1.19.1->yolov5->yolov8) (0.6.0)\n",
      "Requirement already satisfied: gitdb<5,>=4.0.1 in c:\\users\\asus\\anaconda3\\lib\\site-packages (from gitpython>=3.1.30->yolov5->yolov8) (4.0.10)\n",
      "Requirement already satisfied: filelock in c:\\users\\asus\\anaconda3\\lib\\site-packages (from huggingface-hub>=0.12.0->yolov5->yolov8) (3.6.0)\n",
      "Requirement already satisfied: fsspec in c:\\users\\asus\\anaconda3\\lib\\site-packages (from huggingface-hub>=0.12.0->yolov5->yolov8) (2022.7.1)\n",
      "Requirement already satisfied: typing-extensions>=3.7.4.3 in c:\\users\\asus\\anaconda3\\lib\\site-packages (from huggingface-hub>=0.12.0->yolov5->yolov8) (4.8.0)\n",
      "Requirement already satisfied: packaging>=20.9 in c:\\users\\asus\\anaconda3\\lib\\site-packages (from huggingface-hub>=0.12.0->yolov5->yolov8) (23.2)\n",
      "Requirement already satisfied: cycler>=0.10 in c:\\users\\asus\\anaconda3\\lib\\site-packages (from matplotlib>=3.3->yolov5->yolov8) (0.10.0)\n",
      "Requirement already satisfied: fonttools>=4.22.0 in c:\\users\\asus\\anaconda3\\lib\\site-packages (from matplotlib>=3.3->yolov5->yolov8) (4.25.0)\n",
      "Requirement already satisfied: kiwisolver>=1.0.1 in c:\\users\\asus\\anaconda3\\lib\\site-packages (from matplotlib>=3.3->yolov5->yolov8) (1.4.2)\n",
      "Requirement already satisfied: pyparsing>=2.2.1 in c:\\users\\asus\\anaconda3\\lib\\site-packages (from matplotlib>=3.3->yolov5->yolov8) (2.4.7)\n",
      "Requirement already satisfied: python-dateutil>=2.7 in c:\\users\\asus\\anaconda3\\lib\\site-packages (from matplotlib>=3.3->yolov5->yolov8) (2.8.2)\n",
      "Requirement already satisfied: pytz>=2020.1 in c:\\users\\asus\\anaconda3\\lib\\site-packages (from pandas>=1.1.4->yolov5->yolov8) (2023.3)\n",
      "Requirement already satisfied: tzdata>=2022.1 in c:\\users\\asus\\anaconda3\\lib\\site-packages (from pandas>=1.1.4->yolov5->yolov8) (2023.3)\n",
      "Requirement already satisfied: charset-normalizer<4,>=2 in c:\\users\\asus\\anaconda3\\lib\\site-packages (from requests>=2.23.0->yolov5->yolov8) (2.0.4)\n",
      "Requirement already satisfied: idna<4,>=2.5 in c:\\users\\asus\\anaconda3\\lib\\site-packages (from requests>=2.23.0->yolov5->yolov8) (2.10)\n",
      "Requirement already satisfied: urllib3<3,>=1.21.1 in c:\\users\\asus\\anaconda3\\lib\\site-packages (from requests>=2.23.0->yolov5->yolov8) (1.26.11)\n",
      "Requirement already satisfied: certifi>=2017.4.17 in c:\\users\\asus\\anaconda3\\lib\\site-packages (from requests>=2.23.0->yolov5->yolov8) (2022.12.7)\n",
      "Requirement already satisfied: chardet==4.0.0 in c:\\users\\asus\\anaconda3\\lib\\site-packages (from roboflow>=0.2.29->yolov5->yolov8) (4.0.0)\n",
      "Requirement already satisfied: python-dotenv in c:\\users\\asus\\anaconda3\\lib\\site-packages (from roboflow>=0.2.29->yolov5->yolov8) (1.0.0)\n",
      "Requirement already satisfied: six in c:\\users\\asus\\anaconda3\\lib\\site-packages (from roboflow>=0.2.29->yolov5->yolov8) (1.16.0)\n",
      "Requirement already satisfied: wget in c:\\users\\asus\\anaconda3\\lib\\site-packages (from roboflow>=0.2.29->yolov5->yolov8) (3.2)\n",
      "Requirement already satisfied: requests-toolbelt in c:\\users\\asus\\anaconda3\\lib\\site-packages (from roboflow>=0.2.29->yolov5->yolov8) (1.0.0)\n",
      "Requirement already satisfied: shapely>=1.8.0 in c:\\users\\asus\\anaconda3\\lib\\site-packages (from sahi>=0.11.10->yolov5->yolov8) (2.0.1)\n",
      "Requirement already satisfied: pybboxes==0.1.6 in c:\\users\\asus\\anaconda3\\lib\\site-packages (from sahi>=0.11.10->yolov5->yolov8) (0.1.6)\n",
      "Requirement already satisfied: terminaltables in c:\\users\\asus\\anaconda3\\lib\\site-packages (from sahi>=0.11.10->yolov5->yolov8) (3.1.10)\n",
      "Requirement already satisfied: click in c:\\users\\asus\\anaconda3\\lib\\site-packages (from sahi>=0.11.10->yolov5->yolov8) (8.0.4)\n",
      "Requirement already satisfied: absl-py>=0.4 in c:\\users\\asus\\anaconda3\\lib\\site-packages (from tensorboard>=2.4.1->yolov5->yolov8) (1.4.0)\n",
      "Requirement already satisfied: grpcio>=1.48.2 in c:\\users\\asus\\anaconda3\\lib\\site-packages (from tensorboard>=2.4.1->yolov5->yolov8) (1.58.0)\n",
      "Requirement already satisfied: google-auth<3,>=1.6.3 in c:\\users\\asus\\anaconda3\\lib\\site-packages (from tensorboard>=2.4.1->yolov5->yolov8) (2.16.2)\n",
      "Requirement already satisfied: google-auth-oauthlib<2,>=0.5 in c:\\users\\asus\\anaconda3\\lib\\site-packages (from tensorboard>=2.4.1->yolov5->yolov8) (1.0.0)\n",
      "Requirement already satisfied: markdown>=2.6.8 in c:\\users\\asus\\anaconda3\\lib\\site-packages (from tensorboard>=2.4.1->yolov5->yolov8) (3.3.4)\n",
      "Requirement already satisfied: protobuf<4.24,>=3.19.6 in c:\\users\\asus\\anaconda3\\lib\\site-packages (from tensorboard>=2.4.1->yolov5->yolov8) (3.20.3)\n",
      "Requirement already satisfied: tensorboard-data-server<0.8.0,>=0.7.0 in c:\\users\\asus\\anaconda3\\lib\\site-packages (from tensorboard>=2.4.1->yolov5->yolov8) (0.7.1)\n",
      "Requirement already satisfied: werkzeug>=1.0.1 in c:\\users\\asus\\anaconda3\\lib\\site-packages (from tensorboard>=2.4.1->yolov5->yolov8) (2.0.3)\n",
      "Requirement already satisfied: colorama in c:\\users\\asus\\anaconda3\\lib\\site-packages (from tqdm>=4.64.0->yolov5->yolov8) (0.4.5)\n",
      "Requirement already satisfied: py-cpuinfo in c:\\users\\asus\\anaconda3\\lib\\site-packages (from ultralytics>=8.0.100->yolov5->yolov8) (9.0.0)\n",
      "Requirement already satisfied: termcolor in c:\\users\\asus\\anaconda3\\lib\\site-packages (from fire->yolov5->yolov8) (2.2.0)\n",
      "Requirement already satisfied: smmap<6,>=3.0.1 in c:\\users\\asus\\anaconda3\\lib\\site-packages (from gitdb<5,>=4.0.1->gitpython>=3.1.30->yolov5->yolov8) (5.0.0)\n",
      "Requirement already satisfied: cachetools<6.0,>=2.0.0 in c:\\users\\asus\\anaconda3\\lib\\site-packages (from google-auth<3,>=1.6.3->tensorboard>=2.4.1->yolov5->yolov8) (5.3.0)\n",
      "Requirement already satisfied: pyasn1-modules>=0.2.1 in c:\\users\\asus\\anaconda3\\lib\\site-packages (from google-auth<3,>=1.6.3->tensorboard>=2.4.1->yolov5->yolov8) (0.2.8)\n",
      "Requirement already satisfied: rsa<5,>=3.1.4 in c:\\users\\asus\\anaconda3\\lib\\site-packages (from google-auth<3,>=1.6.3->tensorboard>=2.4.1->yolov5->yolov8) (4.9)\n",
      "Requirement already satisfied: requests-oauthlib>=0.7.0 in c:\\users\\asus\\anaconda3\\lib\\site-packages (from google-auth-oauthlib<2,>=0.5->tensorboard>=2.4.1->yolov5->yolov8) (1.3.1)\n",
      "Requirement already satisfied: pyasn1<0.5.0,>=0.4.6 in c:\\users\\asus\\anaconda3\\lib\\site-packages (from pyasn1-modules>=0.2.1->google-auth<3,>=1.6.3->tensorboard>=2.4.1->yolov5->yolov8) (0.4.8)\n",
      "Requirement already satisfied: oauthlib>=3.0.0 in c:\\users\\asus\\anaconda3\\lib\\site-packages (from requests-oauthlib>=0.7.0->google-auth-oauthlib<2,>=0.5->tensorboard>=2.4.1->yolov5->yolov8) (3.2.2)\n",
      "\n"
     ]
    },
    {
     "name": "stderr",
     "output_type": "stream",
     "text": [
      "WARNING: Ignoring invalid distribution -rotobuf (c:\\users\\asus\\anaconda3\\lib\\site-packages)\n",
      "WARNING: Ignoring invalid distribution -rotobuf (c:\\users\\asus\\anaconda3\\lib\\site-packages)\n",
      "WARNING: There was an error checking the latest version of pip.\n"
     ]
    }
   ],
   "source": [
    "pip install yolov8"
   ]
  },
  {
   "cell_type": "markdown",
   "id": "40d90d08",
   "metadata": {},
   "source": [
    "#  สำหรับทำนายรูปภาพ เราต้องเปลี่ยน Path โมเดลและรูปภาพให้ตรงกับของเรา"
   ]
  },
  {
   "cell_type": "code",
   "execution_count": 2,
   "id": "9d3abb42",
   "metadata": {},
   "outputs": [
    {
     "name": "stdout",
     "output_type": "stream",
     "text": [
      "Class: warship, Confidence: 0.88\n"
     ]
    }
   ],
   "source": [
    "from pathlib import Path\n",
    "from ultralytics import YOLO\n",
    "import cv2\n",
    "import math\n",
    "\n",
    "# เลือกpath model ของเราคือ best.pt\n",
    "model_path = Path(r'C:\\Users\\asus\\Desktop\\รวม datasets\\ship\\best.pt')\n",
    "\n",
    "# Load the YOLOv8 model\n",
    "model = YOLO(model_path)\n",
    "\n",
    "# สำหรับทำนายรูปภาพ เราต้องเปลี่ยน Path ให้ตรงกับของเรา\n",
    "image_path = Path(r'C:\\Users\\asus\\Desktop\\รวม datasets\\ship\\Detect-ships-1\\test\\images\\74_jpg.rf.79099a9b10bd6c39d7119a45b196a4b5.jpg')\n",
    "\n",
    "# Perform inference\n",
    "results = model(image_path, conf=0.5, verbose=False)\n",
    "\n",
    "# coordinates\n",
    "for r in results:\n",
    "    boxes = r.boxes\n",
    "\n",
    "    for box in boxes:\n",
    "        # bounding box\n",
    "        x1, y1, x2, y2 = box.xyxy[0]\n",
    "        x1, y1, x2, y2 = int(x1), int(y1), int(x2), int(y2)  # convert to int values\n",
    "\n",
    "        # put box in image\n",
    "        img = cv2.imread(str(image_path))\n",
    "        cv2.rectangle(img, (x1, y1), (x2, y2), (255, 0, 255), 3)\n",
    "\n",
    "        # confidence\n",
    "        confidence = math.ceil((box.conf[0] * 100)) / 100\n",
    "        # class name\n",
    "        cls = int(box.cls[0])\n",
    "\n",
    "        # object details\n",
    "        org = [x1, y1]\n",
    "        font = cv2.FONT_HERSHEY_SIMPLEX\n",
    "        fontScale = 1\n",
    "        color = (255, 0, 0)\n",
    "        thickness = 2\n",
    "\n",
    "        class_name = model.names[cls]\n",
    "        cv2.putText(img, f'{class_name} {confidence}', org, font, fontScale, color, thickness)\n",
    "\n",
    "        print(f'Class: {class_name}, Confidence: {confidence}')\n",
    "\n",
    "    # Show the image\n",
    "    cv2.imshow('Image', img)\n",
    "    cv2.waitKey(0)\n",
    "    cv2.destroyAllWindows()\n"
   ]
  },
  {
   "cell_type": "markdown",
   "id": "e7a9df44",
   "metadata": {},
   "source": [
    "# สำหรับ Webcam  เราต้องเปลี่ยน Path ของโมเดลให้ตรงกับของเรา"
   ]
  },
  {
   "cell_type": "code",
   "execution_count": null,
   "id": "60ef0d24",
   "metadata": {},
   "outputs": [],
   "source": [
    "from pathlib import Path\n",
    "from ultralytics import YOLO\n",
    "import cv2\n",
    "import math\n",
    "\n",
    "# เลือกpath model ของเราคือ best.pt\n",
    "model_path = Path(r'C:\\Users\\asus\\Desktop\\รวม datasets\\ship\\best.pt')\n",
    "\n",
    "# Load the YOLOv8 model\n",
    "model = YOLO(model_path)\n",
    "\n",
    "# Open the webcam\n",
    "cap = cv2.VideoCapture(0)\n",
    "\n",
    "# Set the window size\n",
    "cap.set(3, 640)\n",
    "cap.set(4, 480)\n",
    "\n",
    "while True:\n",
    "    result, img = cap.read()\n",
    "    img = cv2.resize(img, (640, 480))\n",
    "    results = model(img, conf=0.5, verbose=False)\n",
    "\n",
    "    # coordinates\n",
    "    for r in results:\n",
    "        boxes = r.boxes\n",
    "\n",
    "        for box in boxes:\n",
    "            # bounding box\n",
    "            x1, y1, x2, y2 = box.xyxy[0]\n",
    "            x1, y1, x2, y2 = int(x1), int(y1), int(x2), int(y2)  # convert to int values\n",
    "\n",
    "            # put box in cam\n",
    "            cv2.rectangle(img, (x1, y1), (x2, y2), (255, 0, 255), 3)\n",
    "\n",
    "            # confidence\n",
    "            confidence = math.ceil((box.conf[0] * 100)) / 100\n",
    "            # class name\n",
    "            cls = int(box.cls[0])\n",
    "\n",
    "            # object details\n",
    "            org = [x1, y1]\n",
    "            font = cv2.FONT_HERSHEY_SIMPLEX\n",
    "            fontScale = 1\n",
    "            color = (255, 0, 0)\n",
    "            thickness = 2\n",
    "\n",
    "            class_name = model.names[cls]\n",
    "            cv2.putText(img, f'{class_name} {confidence}', org, font, fontScale, color, thickness)\n",
    "            \n",
    "            print(f'Class: {class_name}, Confidence: {confidence}')\n",
    "\n",
    "    # Show the frame\n",
    "    cv2.imshow('Webcam', img)\n",
    "\n",
    "    # Break the loop on 'q' key press\n",
    "    if cv2.waitKey(1) & 0xFF == ord('q'):\n",
    "        break\n",
    "\n",
    "# Release the webcam and close all windows\n",
    "cap.release()\n",
    "cv2.destroyAllWindows()\n"
   ]
  }
 ],
 "metadata": {
  "kernelspec": {
   "display_name": "Python 3 (ipykernel)",
   "language": "python",
   "name": "python3"
  },
  "language_info": {
   "codemirror_mode": {
    "name": "ipython",
    "version": 3
   },
   "file_extension": ".py",
   "mimetype": "text/x-python",
   "name": "python",
   "nbconvert_exporter": "python",
   "pygments_lexer": "ipython3",
   "version": "3.9.13"
  }
 },
 "nbformat": 4,
 "nbformat_minor": 5
}
